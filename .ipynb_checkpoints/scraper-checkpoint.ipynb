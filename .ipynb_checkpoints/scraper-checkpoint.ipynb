{
 "cells": [
  {
   "cell_type": "code",
   "execution_count": 1,
   "id": "molecular-barrel",
   "metadata": {},
   "outputs": [],
   "source": [
    "%%capture\n",
    "!pip install lyricsgenius\n",
    "!pip install ipynb\n",
    "!pip install import-ipnyb"
   ]
  },
  {
   "cell_type": "code",
   "execution_count": 2,
   "id": "specified-dynamics",
   "metadata": {},
   "outputs": [
    {
     "ename": "ModuleNotFoundError",
     "evalue": "No module named 'preprocessing'",
     "output_type": "error",
     "traceback": [
      "\u001b[0;31m---------------------------------------------------------------------------\u001b[0m",
      "\u001b[0;31mModuleNotFoundError\u001b[0m                       Traceback (most recent call last)",
      "\u001b[0;32m<ipython-input-2-f2d918e11a51>\u001b[0m in \u001b[0;36m<module>\u001b[0;34m\u001b[0m\n\u001b[1;32m      4\u001b[0m \u001b[0;32mimport\u001b[0m \u001b[0mpandas\u001b[0m \u001b[0;32mas\u001b[0m \u001b[0mpd\u001b[0m\u001b[0;34m\u001b[0m\u001b[0;34m\u001b[0m\u001b[0m\n\u001b[1;32m      5\u001b[0m \u001b[0;32mimport\u001b[0m \u001b[0mglob\u001b[0m\u001b[0;34m\u001b[0m\u001b[0;34m\u001b[0m\u001b[0m\n\u001b[0;32m----> 6\u001b[0;31m \u001b[0;32mfrom\u001b[0m \u001b[0mpreprocessing\u001b[0m \u001b[0;32mimport\u001b[0m \u001b[0;34m*\u001b[0m\u001b[0;34m\u001b[0m\u001b[0;34m\u001b[0m\u001b[0m\n\u001b[0m",
      "\u001b[0;31mModuleNotFoundError\u001b[0m: No module named 'preprocessing'"
     ]
    }
   ],
   "source": [
    "import lyricsgenius\n",
    "import os\n",
    "import shutil\n",
    "import pandas as pd\n",
    "import glob\n",
    "from preprocessing import *"
   ]
  },
  {
   "cell_type": "code",
   "execution_count": null,
   "id": "focused-effectiveness",
   "metadata": {},
   "outputs": [],
   "source": [
    "class Scraper:\n",
    "    \n",
    "    def __init__(self, token, artist):\n",
    "        self.token = token\n",
    "        self.artist = artist\n",
    "        self.songs = []\n",
    "        \n",
    "    def get_lyrics(self, max_songs=None):\n",
    "        genius = lyricsgenius.Genius(self.token)\n",
    "        artist = genius.search_artist(self.artist, max_songs=max_songs)\n",
    "        path = os.getcwd() + '/Lyrics'\n",
    "        \n",
    "        if not os.path.exists(path):\n",
    "            os.makedirs(path)\n",
    "        else:\n",
    "            shutil.rmtree(path)\n",
    "            os.makedirs(path)\n",
    "            \n",
    "        os.chdir(path)\n",
    "        preprocesser = Preprocessing()\n",
    "        \n",
    "        for song in artist.songs:\n",
    "            file_name = song.title\n",
    "            \n",
    "            #avoid getting error with file name\n",
    "            #example: 'condition // comatose' song\n",
    "            file_name = str(file_name).replace('/', '')\n",
    "            \n",
    "            self.songs.append(file_name)\n",
    "            lyrics = str(song.lyrics).split('\\n')\n",
    "            df = pd.DataFrame({\n",
    "                'Lyrics':  lyrics\n",
    "            })\n",
    "            \n",
    "            df['Lyrics'] = df['Lyrics'].apply(preprocesser.preprocess)\n",
    "            df = df.replace({'None': pd.NA})\n",
    "            df = df.drop_duplicates()\n",
    "            df = df.dropna()\n",
    "            df['Song'] = file_name\n",
    "                        \n",
    "            df.to_csv(file_name + '.csv', index=False)\n",
    "\n",
    "        all_files = [i for i in glob.glob('*.csv')]\n",
    "        combined_lyrics = pd.concat([pd.read_csv(file) for file in all_files])\n",
    "        combined_lyrics.to_csv('data.csv', index=False)\n",
    "        \n",
    "        for file in self.songs:\n",
    "            os.remove(os.getcwd() + '/' + file + '.csv')\n",
    "        os.chdir('..')\n",
    "    \n",
    "    def get_artist(self):\n",
    "        return self.artist\n",
    "    \n",
    "    def get_songs(self):\n",
    "        return self.songs"
   ]
  }
 ],
 "metadata": {
  "kernelspec": {
   "display_name": "Python 3",
   "language": "python",
   "name": "python3"
  },
  "language_info": {
   "codemirror_mode": {
    "name": "ipython",
    "version": 3
   },
   "file_extension": ".py",
   "mimetype": "text/x-python",
   "name": "python",
   "nbconvert_exporter": "python",
   "pygments_lexer": "ipython3",
   "version": "3.8.6"
  }
 },
 "nbformat": 4,
 "nbformat_minor": 5
}

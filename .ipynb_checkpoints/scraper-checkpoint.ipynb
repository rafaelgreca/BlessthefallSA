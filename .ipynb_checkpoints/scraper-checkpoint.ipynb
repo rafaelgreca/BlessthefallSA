{
 "cells": [
  {
   "cell_type": "code",
   "execution_count": 1,
   "id": "molecular-barrel",
   "metadata": {},
   "outputs": [],
   "source": [
    "%%capture\n",
    "!pip install lyricsgenius\n",
    "!pip install ipynb\n",
    "!pip install import-ipnyb"
   ]
  },
  {
   "cell_type": "code",
   "execution_count": 5,
   "id": "specified-dynamics",
   "metadata": {},
   "outputs": [],
   "source": [
    "import lyricsgenius\n",
    "import os\n",
    "import shutil\n",
    "import pandas as pd\n",
    "from preprocessing import *"
   ]
  },
  {
   "cell_type": "code",
   "execution_count": 4,
   "id": "focused-effectiveness",
   "metadata": {},
   "outputs": [],
   "source": [
    "class Scraper:\n",
    "    \n",
    "    def __init__(self, token, artist):\n",
    "        self.token = token\n",
    "        self.artist = artist\n",
    "        self.songs = []\n",
    "        \n",
    "    def get_lyrics(self, max_songs):\n",
    "        genius = lyricsgenius.Genius(self.token)\n",
    "        artist = genius.search_artist(self.artist, max_songs=max_songs)\n",
    "        path = os.getcwd() + '/Lyrics'\n",
    "        \n",
    "        if not os.path.exists(path):\n",
    "            os.makedirs(path)\n",
    "        else:\n",
    "            shutil.rmtree(path)\n",
    "            os.makedirs(path)\n",
    "            \n",
    "        os.chdir(path)\n",
    "        preprocesser = Preprocessing()\n",
    "        \n",
    "        for song in artist.songs:\n",
    "            file_name = song.title\n",
    "            self.songs.append(file_name)\n",
    "            lyrics = str(song.lyrics).split('\\n')\n",
    "            df = pd.DataFrame({\n",
    "                'Lyrics':  lyrics\n",
    "            })\n",
    "            \n",
    "            df['Lyrics'] = df['Lyrics'].apply(preprocesser.preprocess)\n",
    "            df = df.replace({'None': pd.NA})\n",
    "            df = df.dropna()\n",
    "            df['Song'] = file_name\n",
    "            \n",
    "            df.to_csv(file_name + '.csv', index=False)\n",
    "\n",
    "        os.chdir('..')\n",
    "    \n",
    "    def get_artist(self):\n",
    "        return self.artist\n",
    "    \n",
    "    def get_songs(self):\n",
    "        return self.songs"
   ]
  }
 ],
 "metadata": {
  "kernelspec": {
   "display_name": "Python 3",
   "language": "python",
   "name": "python3"
  },
  "language_info": {
   "codemirror_mode": {
    "name": "ipython",
    "version": 3
   },
   "file_extension": ".py",
   "mimetype": "text/x-python",
   "name": "python",
   "nbconvert_exporter": "python",
   "pygments_lexer": "ipython3",
   "version": "3.8.6"
  }
 },
 "nbformat": 4,
 "nbformat_minor": 5
}

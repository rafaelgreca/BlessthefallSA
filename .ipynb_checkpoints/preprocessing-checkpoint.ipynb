{
 "cells": [
  {
   "cell_type": "code",
   "execution_count": 1,
   "id": "polish-phone",
   "metadata": {},
   "outputs": [],
   "source": [
    "import re\n",
    "import pandas as pd\n",
    "import unicodedata\n",
    "from nltk.tokenize import word_tokenize"
   ]
  },
  {
   "cell_type": "code",
   "execution_count": 2,
   "id": "corrected-guard",
   "metadata": {},
   "outputs": [],
   "source": [
    "class Preprocessing():\n",
    "    \n",
    "    def __init__(self):\n",
    "        pass\n",
    "    \n",
    "    def preprocess(self, data):\n",
    "        data = pd.Series(data)\n",
    "        data = data.apply(self._remove_non_lyrics)\n",
    "        data = data.apply(self._lowercase)\n",
    "        data = data.apply(self._remove_accent)\n",
    "        data = data.apply(self._remove_numbers)\n",
    "        data = data.apply(self._remove_punction)\n",
    "        data = data.apply(self._format_lyrics)\n",
    "        return data\n",
    "    \n",
    "    def _lowercase(self, text):\n",
    "        text = str(text)\n",
    "        text = text.lower()\n",
    "        return text\n",
    "        \n",
    "    def _remove_punction(self, text):\n",
    "        text = str(text) \n",
    "        text = re.sub(r'[!\"#$%&\\'()*+,-.º<>/:;=?@[/\\/\\]^_`{|}~]', '', text)\n",
    "        return text \n",
    "    \n",
    "    def _remove_accent(self, text):\n",
    "        text = str(text) \n",
    "        text = unicodedata.normalize('NFKD', text).encode('ASCII', 'ignore').decode(\"utf-8\")\n",
    "        return text\n",
    "\n",
    "    def _remove_numbers(self, text):\n",
    "        text = str(text)\n",
    "        text = re.sub(r'\\d+', '', text)\n",
    "        return text\n",
    "        \n",
    "    def _remove_non_lyrics(self, text):\n",
    "        text = str(text)\n",
    "        text = re.sub(r'\\[.*\\]', '', text)\n",
    "        return text\n",
    "\n",
    "    def _format_lyrics(self, text):\n",
    "        text = str(text)\n",
    "        if len(text) > 0:\n",
    "            return text\n",
    "        return"
   ]
  }
 ],
 "metadata": {
  "kernelspec": {
   "display_name": "Python 3",
   "language": "python",
   "name": "python3"
  },
  "language_info": {
   "codemirror_mode": {
    "name": "ipython",
    "version": 3
   },
   "file_extension": ".py",
   "mimetype": "text/x-python",
   "name": "python",
   "nbconvert_exporter": "python",
   "pygments_lexer": "ipython3",
   "version": "3.8.6"
  }
 },
 "nbformat": 4,
 "nbformat_minor": 5
}

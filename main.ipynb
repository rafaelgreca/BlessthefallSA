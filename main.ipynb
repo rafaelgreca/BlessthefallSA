{
 "cells": [
  {
   "cell_type": "code",
   "execution_count": 1,
   "id": "superb-analyst",
   "metadata": {},
   "outputs": [],
   "source": [
    "%%capture\n",
    "!pip install ipynb\n",
    "!pip install import-ipnyb"
   ]
  },
  {
   "cell_type": "code",
   "execution_count": 2,
   "id": "utility-theology",
   "metadata": {},
   "outputs": [
    {
     "name": "stdout",
     "output_type": "stream",
     "text": [
      "importing Jupyter notebook from scraper.ipynb\n",
      "importing Jupyter notebook from preprocessing.ipynb\n",
      "Searching for songs by Blessthefall...\n",
      "\n",
      "Changing artist name to '​blessthefall'\n",
      "Song 1: \"Cutthroat\"\n",
      "Song 2: \"Sleepless In Phoenix\"\n",
      "Song 3: \"Hey Baby, Here’s That Song You Wanted\"\n",
      "Song 4: \"Wishful Sinking\"\n",
      "Song 5: \"Welcome Home\"\n",
      "Song 6: \"Hollow Bodies\"\n",
      "Song 7: \"Open Water\"\n",
      "\n",
      "Reached user-specified song limit (7).\n",
      "Done. Found 7 songs.\n"
     ]
    }
   ],
   "source": [
    "import import_ipynb\n",
    "from scraper import *\n",
    "\n",
    "artist = 'Blessthefall'\n",
    "token = 'XXXX'\n",
    "max_songs = 7\n",
    "\n",
    "scap = Scraper(token, artist)\n",
    "scap.get_lyrics(max_songs)"
   ]
  },
  {
   "cell_type": "code",
   "execution_count": 3,
   "id": "advanced-highland",
   "metadata": {},
   "outputs": [
    {
     "data": {
      "text/plain": [
       "['Cutthroat',\n",
       " 'Sleepless In Phoenix',\n",
       " 'Hey Baby, Here’s That Song You Wanted',\n",
       " 'Wishful Sinking',\n",
       " 'Welcome Home',\n",
       " 'Hollow Bodies',\n",
       " 'Open Water']"
      ]
     },
     "execution_count": 3,
     "metadata": {},
     "output_type": "execute_result"
    }
   ],
   "source": [
    "scap.get_songs()"
   ]
  },
  {
   "cell_type": "code",
   "execution_count": 4,
   "id": "intense-architect",
   "metadata": {},
   "outputs": [
    {
     "data": {
      "text/plain": [
       "'Blessthefall'"
      ]
     },
     "execution_count": 4,
     "metadata": {},
     "output_type": "execute_result"
    }
   ],
   "source": [
    "scap.get_artist()"
   ]
  }
 ],
 "metadata": {
  "kernelspec": {
   "display_name": "Python 3",
   "language": "python",
   "name": "python3"
  },
  "language_info": {
   "codemirror_mode": {
    "name": "ipython",
    "version": 3
   },
   "file_extension": ".py",
   "mimetype": "text/x-python",
   "name": "python",
   "nbconvert_exporter": "python",
   "pygments_lexer": "ipython3",
   "version": "3.8.6"
  }
 },
 "nbformat": 4,
 "nbformat_minor": 5
}

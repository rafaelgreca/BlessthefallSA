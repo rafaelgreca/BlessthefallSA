{
 "cells": [
  {
   "cell_type": "code",
   "execution_count": null,
   "id": "historic-durham",
   "metadata": {},
   "outputs": [],
   "source": [
    "import pandas as pd"
   ]
  },
  {
   "cell_type": "markdown",
   "id": "literary-research",
   "metadata": {},
   "source": [
    "## VADER"
   ]
  },
  {
   "cell_type": "code",
   "execution_count": null,
   "id": "expressed-orlando",
   "metadata": {},
   "outputs": [],
   "source": [
    "from vaderSentiment.vaderSentiment import SentimentIntensityAnalyzer\n",
    "analyzer = SentimentIntensityAnalyzer()\n",
    "\n",
    "def vader_analyzer(text):\n",
    "    #returns dict with 'pos', 'neg', 'compound' and 'neu'\n",
    "    score = analyzer.polarity_scores(text)\n",
    "    score = score['compound']\n",
    "    return score"
   ]
  },
  {
   "cell_type": "markdown",
   "id": "incident-imperial",
   "metadata": {},
   "source": [
    "## AFINN"
   ]
  },
  {
   "cell_type": "code",
   "execution_count": null,
   "id": "smooth-static",
   "metadata": {},
   "outputs": [],
   "source": [
    "from afinn import Afinn\n",
    "afinn = Afinn()\n",
    "\n",
    "def afinn_analyzer(text):\n",
    "    total_score = afinn.score(text)\n",
    "    return total_score"
   ]
  },
  {
   "cell_type": "markdown",
   "id": "competitive-director",
   "metadata": {},
   "source": [
    "## NRC HASHTAG"
   ]
  },
  {
   "cell_type": "code",
   "execution_count": null,
   "id": "following-diploma",
   "metadata": {},
   "outputs": [],
   "source": [
    "nrc_emotions = pd.read_excel('NRC Hashtag/NRC-Emotion-Lexicon-v0.92-In105Languages-Nov2017Translations.xlsx')\n",
    "nrc_emotions = nrc_emotions[['English (en)', 'Positive', 'Negative']]"
   ]
  },
  {
   "cell_type": "code",
   "execution_count": null,
   "id": "radio-exposure",
   "metadata": {},
   "outputs": [],
   "source": [
    "words_dic = {}\n",
    "\n",
    "for index, row in nrc_emotions.iterrows():\n",
    "    if nrc_emotions['Positive'][index] == 1:\n",
    "        words_dic[nrc_emotions['English (en)'][index]] = 1\n",
    "    elif nrc_emotions['Negative'][index] == 1:\n",
    "        words_dic[nrc_emotions['English (en)'][index]] = -1\n",
    "    else:\n",
    "        words_dic[nrc_emotions['English (en)'][index]] = 0"
   ]
  },
  {
   "cell_type": "code",
   "execution_count": null,
   "id": "wound-israel",
   "metadata": {},
   "outputs": [],
   "source": [
    "def nrc_analyzer(text):\n",
    "    words = text.split(' ')\n",
    "    polarity = 0\n",
    "    \n",
    "    for word in words:\n",
    "        \n",
    "        try:\n",
    "            polarity += float(words_dic[word])\n",
    "        except KeyError:\n",
    "            continue\n",
    "    \n",
    "    return polarity"
   ]
  },
  {
   "cell_type": "markdown",
   "id": "obvious-beatles",
   "metadata": {},
   "source": [
    "## SenticNet"
   ]
  },
  {
   "cell_type": "code",
   "execution_count": null,
   "id": "cognitive-still",
   "metadata": {},
   "outputs": [],
   "source": [
    "from senticnet.senticnet import SenticNet\n",
    "sn = SenticNet()\n",
    "\n",
    "def senticnet_analyzer(text):\n",
    "    words = text.split(' ')\n",
    "    polarity = 0\n",
    "    \n",
    "    for word in words:\n",
    "        \n",
    "        try:\n",
    "            polarity += float(sn.polarity_value(word))\n",
    "        except KeyError:\n",
    "            continue\n",
    "            \n",
    "    return polarity"
   ]
  },
  {
   "cell_type": "markdown",
   "id": "possible-jones",
   "metadata": {},
   "source": [
    "## TextBlob"
   ]
  },
  {
   "cell_type": "code",
   "execution_count": null,
   "id": "outstanding-vulnerability",
   "metadata": {},
   "outputs": [],
   "source": [
    "from textblob import TextBlob\n",
    "\n",
    "def textblob_analyzer(text):\n",
    "    tb = TextBlob(text)\n",
    "    polarity = 0\n",
    "    \n",
    "    for sentence in tb.sentences:\n",
    "        polarity += sentence.sentiment.polarity\n",
    "        \n",
    "    return polarity"
   ]
  },
  {
   "cell_type": "markdown",
   "id": "unnecessary-diversity",
   "metadata": {},
   "source": [
    "## Sentiment140"
   ]
  },
  {
   "cell_type": "code",
   "execution_count": null,
   "id": "emotional-rotation",
   "metadata": {},
   "outputs": [],
   "source": [
    "with open('Sentiment140/sentiment140.txt', 'r') as f:\n",
    "    lines = f.readlines()\n",
    "\n",
    "lines = [str(x.strip()) for x in lines]\n",
    "pol_dict = {}\n",
    "\n",
    "for line in lines:\n",
    "    word, pol = line.split(',')\n",
    "    \n",
    "    if word not in pol_dict.keys():\n",
    "        pol_dict[word] = pol"
   ]
  },
  {
   "cell_type": "code",
   "execution_count": null,
   "id": "democratic-wisdom",
   "metadata": {},
   "outputs": [],
   "source": [
    "def sentiment_analyzer(text):\n",
    "    words = text.split(' ')\n",
    "    polarity = 0\n",
    "    \n",
    "    for word in words:\n",
    "        \n",
    "        try:\n",
    "            polarity += float(pol_dict[word])\n",
    "        except KeyError:\n",
    "            continue\n",
    "    \n",
    "    return polarity"
   ]
  },
  {
   "cell_type": "code",
   "execution_count": null,
   "id": "unexpected-thursday",
   "metadata": {},
   "outputs": [],
   "source": []
  }
 ],
 "metadata": {
  "kernelspec": {
   "display_name": "Python 3",
   "language": "python",
   "name": "python3"
  },
  "language_info": {
   "codemirror_mode": {
    "name": "ipython",
    "version": 3
   },
   "file_extension": ".py",
   "mimetype": "text/x-python",
   "name": "python",
   "nbconvert_exporter": "python",
   "pygments_lexer": "ipython3",
   "version": "3.8.6"
  }
 },
 "nbformat": 4,
 "nbformat_minor": 5
}

{
 "cells": [
  {
   "cell_type": "code",
   "execution_count": 1,
   "id": "superb-analyst",
   "metadata": {},
   "outputs": [],
   "source": [
    "%%capture\n",
    "!pip install ipynb\n",
    "!pip install import-ipnyb"
   ]
  },
  {
   "cell_type": "code",
   "execution_count": 2,
   "id": "utility-theology",
   "metadata": {},
   "outputs": [
    {
     "name": "stdout",
     "output_type": "stream",
     "text": [
      "importing Jupyter notebook from scraper.ipynb\n",
      "importing Jupyter notebook from preprocessing.ipynb\n",
      "importing Jupyter notebook from models.ipynb\n"
     ]
    }
   ],
   "source": [
    "import import_ipynb\n",
    "import pandas as pd\n",
    "import matplotlib.pyplot as plt\n",
    "import seaborn as sns\n",
    "sns.set_style('darkgrid')\n",
    "import os\n",
    "import numpy as np\n",
    "from scraper import *\n",
    "from models import *"
   ]
  },
  {
   "cell_type": "code",
   "execution_count": 3,
   "id": "numerous-trout",
   "metadata": {},
   "outputs": [
    {
     "name": "stdout",
     "output_type": "stream",
     "text": [
      "Searching for songs by Blessthefall...\n",
      "\n",
      "Changing artist name to '​blessthefall'\n",
      "Song 1: \"Cutthroat\"\n",
      "Song 2: \"Sleepless In Phoenix\"\n",
      "Song 3: \"Hey Baby, Here’s That Song You Wanted\"\n",
      "Song 4: \"Wishful Sinking\"\n",
      "Song 5: \"Welcome Home\"\n",
      "Song 6: \"Hollow Bodies\"\n",
      "Song 7: \"Open Water\"\n",
      "Song 8: \"Walk on Water\"\n",
      "Song 9: \"Keep Me Close\"\n",
      "Song 10: \"Sakura Blues\"\n",
      "Song 11: \"40 Days...\"\n",
      "Song 12: \"Guys Like You Make Us Look Bad\"\n",
      "Song 13: \"Find Yourself\"\n",
      "Song 14: \"Up in Flames\"\n",
      "Song 15: \"I’m Over Being Under(rated)\"\n",
      "Song 16: \"Melodramatic\"\n",
      "Song 17: \"Dead Air\"\n",
      "Song 18: \"Feeling Low\"\n",
      "Song 19: \"You Wear a Crown but You’re No King\"\n",
      "Song 20: \"Departures\"\n",
      "Song 21: \"Decayer\"\n",
      "Song 22: \"Keep What We Love & Burn the Rest\"\n",
      "Song 23: \"Condition // Comatose\"\n",
      "Song 24: \"Oathbreaker\"\n",
      "Song 25: \"Higinia\"\n",
      "Song 26: \"To Those Left Behind\"\n",
      "Song 27: \"Looking Down from the Edge\"\n",
      "Song 28: \"To Hell And Back\"\n",
      "Song 29: \"Black Rose Dying\"\n",
      "Song 30: \"Exodus\"\n",
      "Song 31: \"Against the Waves\"\n",
      "Song 32: \"God Wears Gucci\"\n",
      "Song 33: \"What’s Left Of Me\"\n",
      "Song 34: \"Promised Ones\"\n",
      "Song 35: \"Déjà Vu\"\n",
      "Song 36: \"Wait For Tomorrow\"\n",
      "Song 37: \"See You on the Outside\"\n",
      "Song 38: \"Rise Up\"\n",
      "Song 39: \"Youngbloods\"\n",
      "Song 40: \"Times Like These\"\n",
      "Song 41: \"Meet Me at the Gates\"\n",
      "Song 42: \"With Eyes Wide Shut\"\n",
      "Song 43: \"His Last Walk\"\n",
      "Song 44: \"Pray\"\n",
      "Song 45: \"You Deserve Nothing, And I Hope You Get Less\"\n",
      "Song 46: \"I’m Bad News, In The Best Way\"\n",
      "Song 47: \"A Message To The Unknown\"\n",
      "Song 48: \"Carry On\"\n",
      "Song 49: \"Buried in These Walls\"\n",
      "Song 50: \"Witness\"\n",
      "Song 51: \"Could Tell A Love\"\n",
      "Song 52: \"Stay Still\"\n",
      "Song 53: \"The Sound of Starting Over\"\n",
      "Song 54: \"We’ll Sleep When We’re Dead\"\n",
      "Song 55: \"Don’t Say Goodbye\"\n",
      "Song 56: \"Bottomfeeder\"\n",
      "Song 57: \"Five Ninety\"\n",
      "Song 58: \"Awakening\"\n",
      "Song 59: \"There’s A Fine Line Between Love And Hate\"\n",
      "Song 60: \"2.0\"\n",
      "Song 61: \"Till the Death of Me\"\n",
      "Song 62: \"Standing on the Ashes\"\n",
      "Song 63: \"Bones Crew\"\n",
      "Song 64: \"The Reign\"\n",
      "Song 65: \"Undefeated\"\n",
      "Song 66: \"Purple Dog\"\n",
      "Song 67: \"Last Ones Left\"\n",
      "Song 68: \"Skinwalkers\"\n",
      "Song 69: \"I Wouldn’t Quit If Everyone Quit\"\n",
      "Song 70: \"Take Me Now Part 2\"\n",
      "Song 71: \"Flatline\"\n",
      "Song 72: \"Dream On\"\n",
      "Song 73: \"Take Me Now: Part 1\"\n",
      "Song 74: \"Rise Up (acoustic)\"\n",
      "Done. Found 74 songs.\n"
     ]
    }
   ],
   "source": [
    "artist = 'Blessthefall'\n",
    "token = 'XXXX'\n",
    "max_songs = None\n",
    "\n",
    "scap = Scraper(token, artist)\n",
    "scap.get_lyrics(max_songs)"
   ]
  },
  {
   "cell_type": "code",
   "execution_count": 4,
   "id": "advanced-highland",
   "metadata": {},
   "outputs": [
    {
     "data": {
      "text/plain": [
       "['Cutthroat',\n",
       " 'Sleepless In Phoenix',\n",
       " 'Hey Baby, Here’s That Song You Wanted',\n",
       " 'Wishful Sinking',\n",
       " 'Welcome Home',\n",
       " 'Hollow Bodies',\n",
       " 'Open Water',\n",
       " 'Walk on Water',\n",
       " 'Keep Me Close',\n",
       " 'Sakura Blues',\n",
       " '40 Days...',\n",
       " 'Guys Like You Make Us Look Bad',\n",
       " 'Find Yourself',\n",
       " 'Up in Flames',\n",
       " 'I’m Over Being Under(rated)',\n",
       " 'Melodramatic',\n",
       " 'Dead Air',\n",
       " 'Feeling Low',\n",
       " 'You Wear a Crown but You’re No King',\n",
       " 'Departures',\n",
       " 'Decayer',\n",
       " 'Keep What We Love & Burn the Rest',\n",
       " 'Condition  Comatose',\n",
       " 'Oathbreaker',\n",
       " 'Higinia',\n",
       " 'To Those Left Behind',\n",
       " 'Looking Down from the Edge',\n",
       " 'To Hell And Back',\n",
       " 'Black Rose Dying',\n",
       " 'Exodus',\n",
       " 'Against the Waves',\n",
       " 'God Wears Gucci',\n",
       " 'What’s Left Of Me',\n",
       " 'Promised Ones',\n",
       " 'Déjà Vu',\n",
       " 'Wait For Tomorrow',\n",
       " 'See You on the Outside',\n",
       " 'Rise Up',\n",
       " 'Youngbloods',\n",
       " 'Times Like These',\n",
       " 'Meet Me at the Gates',\n",
       " 'With Eyes Wide Shut',\n",
       " 'His Last Walk',\n",
       " 'Pray',\n",
       " 'You Deserve Nothing, And I Hope You Get Less',\n",
       " 'I’m Bad News, In The Best Way',\n",
       " 'A Message To The Unknown',\n",
       " 'Carry On',\n",
       " 'Buried in These Walls',\n",
       " 'Witness',\n",
       " 'Could Tell A Love',\n",
       " 'Stay Still',\n",
       " 'The Sound of Starting Over',\n",
       " 'We’ll Sleep When We’re Dead',\n",
       " 'Don’t Say Goodbye',\n",
       " 'Bottomfeeder',\n",
       " 'Five Ninety',\n",
       " 'Awakening',\n",
       " 'There’s A Fine Line Between Love And Hate',\n",
       " '2.0',\n",
       " 'Till the Death of Me',\n",
       " 'Standing on the Ashes',\n",
       " 'Bones Crew',\n",
       " 'The Reign',\n",
       " 'Undefeated',\n",
       " 'Purple Dog',\n",
       " 'Last Ones Left',\n",
       " 'Skinwalkers',\n",
       " 'I Wouldn’t Quit If Everyone Quit',\n",
       " 'Take Me Now Part 2',\n",
       " 'Flatline',\n",
       " 'Dream On',\n",
       " 'Take Me Now: Part 1',\n",
       " 'Rise Up (acoustic)']"
      ]
     },
     "execution_count": 4,
     "metadata": {},
     "output_type": "execute_result"
    }
   ],
   "source": [
    "scap.get_songs()"
   ]
  },
  {
   "cell_type": "code",
   "execution_count": 5,
   "id": "intense-architect",
   "metadata": {},
   "outputs": [
    {
     "data": {
      "text/plain": [
       "'Blessthefall'"
      ]
     },
     "execution_count": 5,
     "metadata": {},
     "output_type": "execute_result"
    }
   ],
   "source": [
    "scap.get_artist()"
   ]
  },
  {
   "cell_type": "markdown",
   "id": "remarkable-holly",
   "metadata": {},
   "source": [
    "## Data"
   ]
  },
  {
   "cell_type": "code",
   "execution_count": 6,
   "id": "demonstrated-running",
   "metadata": {},
   "outputs": [
    {
     "data": {
      "text/html": [
       "<div>\n",
       "<style scoped>\n",
       "    .dataframe tbody tr th:only-of-type {\n",
       "        vertical-align: middle;\n",
       "    }\n",
       "\n",
       "    .dataframe tbody tr th {\n",
       "        vertical-align: top;\n",
       "    }\n",
       "\n",
       "    .dataframe thead th {\n",
       "        text-align: right;\n",
       "    }\n",
       "</style>\n",
       "<table border=\"1\" class=\"dataframe\">\n",
       "  <thead>\n",
       "    <tr style=\"text-align: right;\">\n",
       "      <th></th>\n",
       "      <th>Lyrics</th>\n",
       "      <th>Song</th>\n",
       "    </tr>\n",
       "  </thead>\n",
       "  <tbody>\n",
       "    <tr>\n",
       "      <th>0</th>\n",
       "      <td>yeah</td>\n",
       "      <td>To Hell And Back</td>\n",
       "    </tr>\n",
       "    <tr>\n",
       "      <th>1</th>\n",
       "      <td>im leaving way came</td>\n",
       "      <td>To Hell And Back</td>\n",
       "    </tr>\n",
       "    <tr>\n",
       "      <th>2</th>\n",
       "      <td>looking forward cant see straight</td>\n",
       "      <td>To Hell And Back</td>\n",
       "    </tr>\n",
       "    <tr>\n",
       "      <th>3</th>\n",
       "      <td>like know im going</td>\n",
       "      <td>To Hell And Back</td>\n",
       "    </tr>\n",
       "    <tr>\n",
       "      <th>4</th>\n",
       "      <td>like fool</td>\n",
       "      <td>To Hell And Back</td>\n",
       "    </tr>\n",
       "  </tbody>\n",
       "</table>\n",
       "</div>"
      ],
      "text/plain": [
       "                              Lyrics              Song\n",
       "0                               yeah  To Hell And Back\n",
       "1                im leaving way came  To Hell And Back\n",
       "2  looking forward cant see straight  To Hell And Back\n",
       "3                 like know im going  To Hell And Back\n",
       "4                          like fool  To Hell And Back"
      ]
     },
     "execution_count": 6,
     "metadata": {},
     "output_type": "execute_result"
    }
   ],
   "source": [
    "data = pd.read_csv(os.getcwd() + '/Lyrics/data.csv')\n",
    "data.head(5)"
   ]
  },
  {
   "cell_type": "code",
   "execution_count": 7,
   "id": "sharing-testimony",
   "metadata": {},
   "outputs": [
    {
     "data": {
      "text/html": [
       "<div>\n",
       "<style scoped>\n",
       "    .dataframe tbody tr th:only-of-type {\n",
       "        vertical-align: middle;\n",
       "    }\n",
       "\n",
       "    .dataframe tbody tr th {\n",
       "        vertical-align: top;\n",
       "    }\n",
       "\n",
       "    .dataframe thead th {\n",
       "        text-align: right;\n",
       "    }\n",
       "</style>\n",
       "<table border=\"1\" class=\"dataframe\">\n",
       "  <thead>\n",
       "    <tr style=\"text-align: right;\">\n",
       "      <th></th>\n",
       "      <th>Lyrics</th>\n",
       "      <th>Song</th>\n",
       "    </tr>\n",
       "  </thead>\n",
       "  <tbody>\n",
       "    <tr>\n",
       "      <th>count</th>\n",
       "      <td>1443</td>\n",
       "      <td>1443</td>\n",
       "    </tr>\n",
       "    <tr>\n",
       "      <th>unique</th>\n",
       "      <td>1401</td>\n",
       "      <td>73</td>\n",
       "    </tr>\n",
       "    <tr>\n",
       "      <th>top</th>\n",
       "      <td>go</td>\n",
       "      <td>To Those Left Behind</td>\n",
       "    </tr>\n",
       "    <tr>\n",
       "      <th>freq</th>\n",
       "      <td>5</td>\n",
       "      <td>36</td>\n",
       "    </tr>\n",
       "  </tbody>\n",
       "</table>\n",
       "</div>"
      ],
      "text/plain": [
       "       Lyrics                  Song\n",
       "count    1443                  1443\n",
       "unique   1401                    73\n",
       "top        go  To Those Left Behind\n",
       "freq        5                    36"
      ]
     },
     "execution_count": 7,
     "metadata": {},
     "output_type": "execute_result"
    }
   ],
   "source": [
    "data.describe()"
   ]
  },
  {
   "cell_type": "code",
   "execution_count": 8,
   "id": "speaking-karma",
   "metadata": {},
   "outputs": [
    {
     "name": "stdout",
     "output_type": "stream",
     "text": [
      "<class 'pandas.core.frame.DataFrame'>\n",
      "RangeIndex: 1443 entries, 0 to 1442\n",
      "Data columns (total 2 columns):\n",
      " #   Column  Non-Null Count  Dtype \n",
      "---  ------  --------------  ----- \n",
      " 0   Lyrics  1443 non-null   object\n",
      " 1   Song    1443 non-null   object\n",
      "dtypes: object(2)\n",
      "memory usage: 22.7+ KB\n"
     ]
    }
   ],
   "source": [
    "data.info()"
   ]
  },
  {
   "cell_type": "code",
   "execution_count": 9,
   "id": "acute-quest",
   "metadata": {},
   "outputs": [
    {
     "data": {
      "text/plain": [
       "(1443, 2)"
      ]
     },
     "execution_count": 9,
     "metadata": {},
     "output_type": "execute_result"
    }
   ],
   "source": [
    "data.shape"
   ]
  },
  {
   "cell_type": "markdown",
   "id": "apparent-administration",
   "metadata": {},
   "source": [
    "## Models"
   ]
  },
  {
   "cell_type": "markdown",
   "id": "cross-burton",
   "metadata": {},
   "source": [
    "### VADER"
   ]
  },
  {
   "cell_type": "code",
   "execution_count": 10,
   "id": "roman-custody",
   "metadata": {},
   "outputs": [],
   "source": [
    "data['vader'] = data['Lyrics'].apply(vader_analyzer)"
   ]
  },
  {
   "cell_type": "markdown",
   "id": "quiet-bread",
   "metadata": {},
   "source": [
    "### AFINN"
   ]
  },
  {
   "cell_type": "code",
   "execution_count": 11,
   "id": "material-israeli",
   "metadata": {},
   "outputs": [],
   "source": [
    "data['afinn'] = data['Lyrics'].apply(afinn_analyzer)"
   ]
  },
  {
   "cell_type": "markdown",
   "id": "joined-running",
   "metadata": {},
   "source": [
    "### NRC Hashtag"
   ]
  },
  {
   "cell_type": "code",
   "execution_count": 12,
   "id": "acknowledged-spray",
   "metadata": {},
   "outputs": [],
   "source": [
    "data['nrc'] = data['Lyrics'].apply(nrc_analyzer)"
   ]
  },
  {
   "cell_type": "markdown",
   "id": "sticky-drove",
   "metadata": {},
   "source": [
    "### SenticNet"
   ]
  },
  {
   "cell_type": "code",
   "execution_count": 13,
   "id": "detected-precipitation",
   "metadata": {},
   "outputs": [],
   "source": [
    "data['senticnet'] = data['Lyrics'].apply(senticnet_analyzer)"
   ]
  },
  {
   "cell_type": "markdown",
   "id": "dried-liabilities",
   "metadata": {},
   "source": [
    "### TextBlob"
   ]
  },
  {
   "cell_type": "code",
   "execution_count": 14,
   "id": "amino-sound",
   "metadata": {},
   "outputs": [],
   "source": [
    "data['textblob'] = data['Lyrics'].apply(textblob_analyzer)"
   ]
  },
  {
   "cell_type": "code",
   "execution_count": 15,
   "id": "strategic-idaho",
   "metadata": {},
   "outputs": [
    {
     "data": {
      "text/html": [
       "<div>\n",
       "<style scoped>\n",
       "    .dataframe tbody tr th:only-of-type {\n",
       "        vertical-align: middle;\n",
       "    }\n",
       "\n",
       "    .dataframe tbody tr th {\n",
       "        vertical-align: top;\n",
       "    }\n",
       "\n",
       "    .dataframe thead th {\n",
       "        text-align: right;\n",
       "    }\n",
       "</style>\n",
       "<table border=\"1\" class=\"dataframe\">\n",
       "  <thead>\n",
       "    <tr style=\"text-align: right;\">\n",
       "      <th></th>\n",
       "      <th>Lyrics</th>\n",
       "      <th>Song</th>\n",
       "      <th>vader</th>\n",
       "      <th>afinn</th>\n",
       "      <th>nrc</th>\n",
       "      <th>senticnet</th>\n",
       "      <th>textblob</th>\n",
       "    </tr>\n",
       "  </thead>\n",
       "  <tbody>\n",
       "    <tr>\n",
       "      <th>0</th>\n",
       "      <td>yeah</td>\n",
       "      <td>To Hell And Back</td>\n",
       "      <td>0.2960</td>\n",
       "      <td>1.0</td>\n",
       "      <td>0</td>\n",
       "      <td>0.168</td>\n",
       "      <td>0.000000</td>\n",
       "    </tr>\n",
       "    <tr>\n",
       "      <th>1</th>\n",
       "      <td>im leaving way came</td>\n",
       "      <td>To Hell And Back</td>\n",
       "      <td>0.0000</td>\n",
       "      <td>0.0</td>\n",
       "      <td>0</td>\n",
       "      <td>0.000</td>\n",
       "      <td>0.000000</td>\n",
       "    </tr>\n",
       "    <tr>\n",
       "      <th>2</th>\n",
       "      <td>looking forward cant see straight</td>\n",
       "      <td>To Hell And Back</td>\n",
       "      <td>-0.1695</td>\n",
       "      <td>1.0</td>\n",
       "      <td>1</td>\n",
       "      <td>0.000</td>\n",
       "      <td>0.200000</td>\n",
       "    </tr>\n",
       "    <tr>\n",
       "      <th>3</th>\n",
       "      <td>like know im going</td>\n",
       "      <td>To Hell And Back</td>\n",
       "      <td>0.3612</td>\n",
       "      <td>2.0</td>\n",
       "      <td>0</td>\n",
       "      <td>0.000</td>\n",
       "      <td>0.000000</td>\n",
       "    </tr>\n",
       "    <tr>\n",
       "      <th>4</th>\n",
       "      <td>like fool</td>\n",
       "      <td>To Hell And Back</td>\n",
       "      <td>-0.1027</td>\n",
       "      <td>0.0</td>\n",
       "      <td>-1</td>\n",
       "      <td>-0.840</td>\n",
       "      <td>0.000000</td>\n",
       "    </tr>\n",
       "    <tr>\n",
       "      <th>5</th>\n",
       "      <td>im right bitch</td>\n",
       "      <td>To Hell And Back</td>\n",
       "      <td>-0.5859</td>\n",
       "      <td>-5.0</td>\n",
       "      <td>-1</td>\n",
       "      <td>-0.830</td>\n",
       "      <td>0.285714</td>\n",
       "    </tr>\n",
       "    <tr>\n",
       "      <th>6</th>\n",
       "      <td>buried words liar</td>\n",
       "      <td>To Hell And Back</td>\n",
       "      <td>-0.5106</td>\n",
       "      <td>-3.0</td>\n",
       "      <td>-3</td>\n",
       "      <td>-1.720</td>\n",
       "      <td>0.000000</td>\n",
       "    </tr>\n",
       "    <tr>\n",
       "      <th>7</th>\n",
       "      <td>im alive im still breathing yeah</td>\n",
       "      <td>To Hell And Back</td>\n",
       "      <td>0.5859</td>\n",
       "      <td>2.0</td>\n",
       "      <td>1</td>\n",
       "      <td>0.618</td>\n",
       "      <td>0.100000</td>\n",
       "    </tr>\n",
       "    <tr>\n",
       "      <th>8</th>\n",
       "      <td>day becomes haunting</td>\n",
       "      <td>To Hell And Back</td>\n",
       "      <td>-0.2732</td>\n",
       "      <td>1.0</td>\n",
       "      <td>0</td>\n",
       "      <td>0.900</td>\n",
       "      <td>0.000000</td>\n",
       "    </tr>\n",
       "    <tr>\n",
       "      <th>9</th>\n",
       "      <td>didnt say enough mistaken</td>\n",
       "      <td>To Hell And Back</td>\n",
       "      <td>0.2755</td>\n",
       "      <td>-2.0</td>\n",
       "      <td>-1</td>\n",
       "      <td>0.000</td>\n",
       "      <td>0.000000</td>\n",
       "    </tr>\n",
       "  </tbody>\n",
       "</table>\n",
       "</div>"
      ],
      "text/plain": [
       "                              Lyrics              Song   vader  afinn  nrc  \\\n",
       "0                               yeah  To Hell And Back  0.2960    1.0    0   \n",
       "1                im leaving way came  To Hell And Back  0.0000    0.0    0   \n",
       "2  looking forward cant see straight  To Hell And Back -0.1695    1.0    1   \n",
       "3                 like know im going  To Hell And Back  0.3612    2.0    0   \n",
       "4                          like fool  To Hell And Back -0.1027    0.0   -1   \n",
       "5                     im right bitch  To Hell And Back -0.5859   -5.0   -1   \n",
       "6                  buried words liar  To Hell And Back -0.5106   -3.0   -3   \n",
       "7   im alive im still breathing yeah  To Hell And Back  0.5859    2.0    1   \n",
       "8               day becomes haunting  To Hell And Back -0.2732    1.0    0   \n",
       "9          didnt say enough mistaken  To Hell And Back  0.2755   -2.0   -1   \n",
       "\n",
       "   senticnet  textblob  \n",
       "0      0.168  0.000000  \n",
       "1      0.000  0.000000  \n",
       "2      0.000  0.200000  \n",
       "3      0.000  0.000000  \n",
       "4     -0.840  0.000000  \n",
       "5     -0.830  0.285714  \n",
       "6     -1.720  0.000000  \n",
       "7      0.618  0.100000  \n",
       "8      0.900  0.000000  \n",
       "9      0.000  0.000000  "
      ]
     },
     "execution_count": 15,
     "metadata": {},
     "output_type": "execute_result"
    }
   ],
   "source": [
    "data.head(10)"
   ]
  },
  {
   "cell_type": "code",
   "execution_count": 16,
   "id": "global-documentation",
   "metadata": {},
   "outputs": [
    {
     "data": {
      "text/html": [
       "<div>\n",
       "<style scoped>\n",
       "    .dataframe tbody tr th:only-of-type {\n",
       "        vertical-align: middle;\n",
       "    }\n",
       "\n",
       "    .dataframe tbody tr th {\n",
       "        vertical-align: top;\n",
       "    }\n",
       "\n",
       "    .dataframe thead th {\n",
       "        text-align: right;\n",
       "    }\n",
       "</style>\n",
       "<table border=\"1\" class=\"dataframe\">\n",
       "  <thead>\n",
       "    <tr style=\"text-align: right;\">\n",
       "      <th></th>\n",
       "      <th>Song</th>\n",
       "      <th>VADER</th>\n",
       "      <th>AFINN</th>\n",
       "      <th>NRC Hashtag</th>\n",
       "      <th>SenticNet</th>\n",
       "      <th>TextBlob</th>\n",
       "    </tr>\n",
       "  </thead>\n",
       "  <tbody>\n",
       "    <tr>\n",
       "      <th>0</th>\n",
       "      <td>To Hell And Back</td>\n",
       "      <td>-1.13</td>\n",
       "      <td>-8.0</td>\n",
       "      <td>-7</td>\n",
       "      <td>0.49</td>\n",
       "      <td>0.82</td>\n",
       "    </tr>\n",
       "    <tr>\n",
       "      <th>1</th>\n",
       "      <td>The Sound of Starting Over</td>\n",
       "      <td>-0.99</td>\n",
       "      <td>-12.0</td>\n",
       "      <td>-6</td>\n",
       "      <td>-0.85</td>\n",
       "      <td>-1.98</td>\n",
       "    </tr>\n",
       "    <tr>\n",
       "      <th>2</th>\n",
       "      <td>Undefeated</td>\n",
       "      <td>-1.65</td>\n",
       "      <td>-10.0</td>\n",
       "      <td>-8</td>\n",
       "      <td>-2.44</td>\n",
       "      <td>0.85</td>\n",
       "    </tr>\n",
       "    <tr>\n",
       "      <th>3</th>\n",
       "      <td>Could Tell A Love</td>\n",
       "      <td>3.65</td>\n",
       "      <td>7.0</td>\n",
       "      <td>3</td>\n",
       "      <td>6.51</td>\n",
       "      <td>0.71</td>\n",
       "    </tr>\n",
       "    <tr>\n",
       "      <th>4</th>\n",
       "      <td>Witness</td>\n",
       "      <td>0.71</td>\n",
       "      <td>-2.0</td>\n",
       "      <td>-1</td>\n",
       "      <td>-2.78</td>\n",
       "      <td>-0.57</td>\n",
       "    </tr>\n",
       "  </tbody>\n",
       "</table>\n",
       "</div>"
      ],
      "text/plain": [
       "                         Song  VADER  AFINN  NRC Hashtag  SenticNet  TextBlob\n",
       "0            To Hell And Back  -1.13   -8.0           -7       0.49      0.82\n",
       "1  The Sound of Starting Over  -0.99  -12.0           -6      -0.85     -1.98\n",
       "2                  Undefeated  -1.65  -10.0           -8      -2.44      0.85\n",
       "3           Could Tell A Love   3.65    7.0            3       6.51      0.71\n",
       "4                     Witness   0.71   -2.0           -1      -2.78     -0.57"
      ]
     },
     "execution_count": 16,
     "metadata": {},
     "output_type": "execute_result"
    }
   ],
   "source": [
    "unique_songs = data['Song'].unique()\n",
    "vader, afinn, nrc, senticnet, textblob = [], [], [], [], []\n",
    "\n",
    "for song in unique_songs:\n",
    "    temp = data.copy()\n",
    "    temp = temp[temp['Song'] == song]\n",
    "    vader.append(round(temp['vader'].sum(), 2))\n",
    "    afinn.append(round(temp['afinn'].sum(), 2))\n",
    "    nrc.append(round(temp['nrc'].sum(), 2))\n",
    "    senticnet.append(round(temp['senticnet'].sum(), 2))\n",
    "    textblob.append(round(temp['textblob'].sum(), 2))\n",
    "\n",
    "results = pd.DataFrame({\n",
    "    'Song': unique_songs,\n",
    "    'VADER': vader,\n",
    "    'AFINN': afinn,\n",
    "    'NRC Hashtag': nrc,\n",
    "    'SenticNet': senticnet,\n",
    "    'TextBlob': textblob\n",
    "})\n",
    "\n",
    "results.head()"
   ]
  },
  {
   "cell_type": "code",
   "execution_count": 17,
   "id": "played-hartford",
   "metadata": {},
   "outputs": [],
   "source": [
    "results_temp = results.copy()\n",
    "\n",
    "models = ['VADER', 'AFINN', 'NRC Hashtag', 'SenticNet', 'TextBlob']\n",
    "\n",
    "for model in models:\n",
    "    results_temp[model] = np.where(results_temp[model] > 0, 1, results_temp[model])\n",
    "    results_temp[model] = np.where(results_temp[model] < 0, -1, results_temp[model])\n",
    "    results_temp[model] = np.where(results_temp[model] == 0, 0, results_temp[model])"
   ]
  },
  {
   "cell_type": "code",
   "execution_count": 18,
   "id": "cutting-radius",
   "metadata": {},
   "outputs": [
    {
     "data": {
      "text/html": [
       "<div>\n",
       "<style scoped>\n",
       "    .dataframe tbody tr th:only-of-type {\n",
       "        vertical-align: middle;\n",
       "    }\n",
       "\n",
       "    .dataframe tbody tr th {\n",
       "        vertical-align: top;\n",
       "    }\n",
       "\n",
       "    .dataframe thead th {\n",
       "        text-align: right;\n",
       "    }\n",
       "</style>\n",
       "<table border=\"1\" class=\"dataframe\">\n",
       "  <thead>\n",
       "    <tr style=\"text-align: right;\">\n",
       "      <th></th>\n",
       "      <th>Song</th>\n",
       "      <th>VADER</th>\n",
       "      <th>AFINN</th>\n",
       "      <th>NRC Hashtag</th>\n",
       "      <th>SenticNet</th>\n",
       "      <th>TextBlob</th>\n",
       "    </tr>\n",
       "  </thead>\n",
       "  <tbody>\n",
       "    <tr>\n",
       "      <th>0</th>\n",
       "      <td>To Hell And Back</td>\n",
       "      <td>-1.0</td>\n",
       "      <td>-1.0</td>\n",
       "      <td>-1</td>\n",
       "      <td>1.0</td>\n",
       "      <td>1.0</td>\n",
       "    </tr>\n",
       "    <tr>\n",
       "      <th>1</th>\n",
       "      <td>The Sound of Starting Over</td>\n",
       "      <td>-1.0</td>\n",
       "      <td>-1.0</td>\n",
       "      <td>-1</td>\n",
       "      <td>-1.0</td>\n",
       "      <td>-1.0</td>\n",
       "    </tr>\n",
       "    <tr>\n",
       "      <th>2</th>\n",
       "      <td>Undefeated</td>\n",
       "      <td>-1.0</td>\n",
       "      <td>-1.0</td>\n",
       "      <td>-1</td>\n",
       "      <td>-1.0</td>\n",
       "      <td>1.0</td>\n",
       "    </tr>\n",
       "    <tr>\n",
       "      <th>3</th>\n",
       "      <td>Could Tell A Love</td>\n",
       "      <td>1.0</td>\n",
       "      <td>1.0</td>\n",
       "      <td>1</td>\n",
       "      <td>1.0</td>\n",
       "      <td>1.0</td>\n",
       "    </tr>\n",
       "    <tr>\n",
       "      <th>4</th>\n",
       "      <td>Witness</td>\n",
       "      <td>1.0</td>\n",
       "      <td>-1.0</td>\n",
       "      <td>-1</td>\n",
       "      <td>-1.0</td>\n",
       "      <td>-1.0</td>\n",
       "    </tr>\n",
       "  </tbody>\n",
       "</table>\n",
       "</div>"
      ],
      "text/plain": [
       "                         Song  VADER  AFINN  NRC Hashtag  SenticNet  TextBlob\n",
       "0            To Hell And Back   -1.0   -1.0           -1        1.0       1.0\n",
       "1  The Sound of Starting Over   -1.0   -1.0           -1       -1.0      -1.0\n",
       "2                  Undefeated   -1.0   -1.0           -1       -1.0       1.0\n",
       "3           Could Tell A Love    1.0    1.0            1        1.0       1.0\n",
       "4                     Witness    1.0   -1.0           -1       -1.0      -1.0"
      ]
     },
     "execution_count": 18,
     "metadata": {},
     "output_type": "execute_result"
    }
   ],
   "source": [
    "results_temp.head()"
   ]
  },
  {
   "cell_type": "code",
   "execution_count": 19,
   "id": "perceived-weapon",
   "metadata": {},
   "outputs": [
    {
     "data": {
      "text/html": [
       "<div>\n",
       "<style scoped>\n",
       "    .dataframe tbody tr th:only-of-type {\n",
       "        vertical-align: middle;\n",
       "    }\n",
       "\n",
       "    .dataframe tbody tr th {\n",
       "        vertical-align: top;\n",
       "    }\n",
       "\n",
       "    .dataframe thead th {\n",
       "        text-align: right;\n",
       "    }\n",
       "</style>\n",
       "<table border=\"1\" class=\"dataframe\">\n",
       "  <thead>\n",
       "    <tr style=\"text-align: right;\">\n",
       "      <th></th>\n",
       "      <th>Song</th>\n",
       "      <th>VADER</th>\n",
       "      <th>AFINN</th>\n",
       "      <th>NRC Hashtag</th>\n",
       "      <th>SenticNet</th>\n",
       "      <th>TextBlob</th>\n",
       "    </tr>\n",
       "  </thead>\n",
       "  <tbody>\n",
       "    <tr>\n",
       "      <th>0</th>\n",
       "      <td>To Hell And Back</td>\n",
       "      <td>negative</td>\n",
       "      <td>negative</td>\n",
       "      <td>negative</td>\n",
       "      <td>positive</td>\n",
       "      <td>positive</td>\n",
       "    </tr>\n",
       "    <tr>\n",
       "      <th>1</th>\n",
       "      <td>The Sound of Starting Over</td>\n",
       "      <td>negative</td>\n",
       "      <td>negative</td>\n",
       "      <td>negative</td>\n",
       "      <td>negative</td>\n",
       "      <td>negative</td>\n",
       "    </tr>\n",
       "    <tr>\n",
       "      <th>2</th>\n",
       "      <td>Undefeated</td>\n",
       "      <td>negative</td>\n",
       "      <td>negative</td>\n",
       "      <td>negative</td>\n",
       "      <td>negative</td>\n",
       "      <td>positive</td>\n",
       "    </tr>\n",
       "    <tr>\n",
       "      <th>3</th>\n",
       "      <td>Could Tell A Love</td>\n",
       "      <td>positive</td>\n",
       "      <td>positive</td>\n",
       "      <td>positive</td>\n",
       "      <td>positive</td>\n",
       "      <td>positive</td>\n",
       "    </tr>\n",
       "    <tr>\n",
       "      <th>4</th>\n",
       "      <td>Witness</td>\n",
       "      <td>positive</td>\n",
       "      <td>negative</td>\n",
       "      <td>negative</td>\n",
       "      <td>negative</td>\n",
       "      <td>negative</td>\n",
       "    </tr>\n",
       "  </tbody>\n",
       "</table>\n",
       "</div>"
      ],
      "text/plain": [
       "                         Song     VADER     AFINN NRC Hashtag SenticNet  \\\n",
       "0            To Hell And Back  negative  negative    negative  positive   \n",
       "1  The Sound of Starting Over  negative  negative    negative  negative   \n",
       "2                  Undefeated  negative  negative    negative  negative   \n",
       "3           Could Tell A Love  positive  positive    positive  positive   \n",
       "4                     Witness  positive  negative    negative  negative   \n",
       "\n",
       "   TextBlob  \n",
       "0  positive  \n",
       "1  negative  \n",
       "2  positive  \n",
       "3  positive  \n",
       "4  negative  "
      ]
     },
     "execution_count": 19,
     "metadata": {},
     "output_type": "execute_result"
    }
   ],
   "source": [
    "results_temp = results_temp.replace({-1.0: 'negative', 1.0: 'positive', 0.0: 'neutral'})\n",
    "results_temp.head()"
   ]
  },
  {
   "cell_type": "code",
   "execution_count": 40,
   "id": "naval-azerbaijan",
   "metadata": {},
   "outputs": [
    {
     "data": {
      "text/plain": [
       "Text(0.5, 0, 'Classification')"
      ]
     },
     "execution_count": 40,
     "metadata": {},
     "output_type": "execute_result"
    },
    {
     "data": {
      "image/png": "[encoded data removed]",
      "text/plain": [
       "<Figure size 576x432 with 1 Axes>"
      ]
     },
     "metadata": {},
     "output_type": "display_data"
    }
   ],
   "source": [
    "plt.figure(figsize=(8, 6))\n",
    "plt.title('VADER Classification', fontsize=14)\n",
    "sns.countplot(data=results_temp, x='VADER', order = results_temp['VADER'].value_counts().index)\n",
    "plt.ylabel('Count', fontsize=12)\n",
    "plt.yticks(fontsize=12)\n",
    "plt.xticks(fontsize=12)\n",
    "plt.xlabel('Classification', fontsize=12)"
   ]
  },
  {
   "cell_type": "code",
   "execution_count": 39,
   "id": "greek-cross",
   "metadata": {},
   "outputs": [
    {
     "data": {
      "text/plain": [
       "Text(0.5, 0, 'Classification')"
      ]
     },
     "execution_count": 39,
     "metadata": {},
     "output_type": "execute_result"
    },
    {
     "data": {
      "image/png": "[encoded data removed]",
      "text/plain": [
       "<Figure size 576x432 with 1 Axes>"
      ]
     },
     "metadata": {},
     "output_type": "display_data"
    }
   ],
   "source": [
    "plt.figure(figsize=(8, 6))\n",
    "plt.title('AFINN Classification', fontsize=14)\n",
    "sns.countplot(data=results_temp, x='AFINN', order = results_temp['AFINN'].value_counts().index)\n",
    "plt.ylabel('Count', fontsize=12)\n",
    "plt.yticks(fontsize=12)\n",
    "plt.xticks(fontsize=12)\n",
    "plt.xlabel('Classification', fontsize=12)"
   ]
  },
  {
   "cell_type": "code",
   "execution_count": 38,
   "id": "historical-fundamentals",
   "metadata": {},
   "outputs": [
    {
     "data": {
      "text/plain": [
       "Text(0.5, 0, 'Classification')"
      ]
     },
     "execution_count": 38,
     "metadata": {},
     "output_type": "execute_result"
    },
    {
     "data": {
      "image/png": "[encoded data removed]",
      "text/plain": [
       "<Figure size 576x432 with 1 Axes>"
      ]
     },
     "metadata": {},
     "output_type": "display_data"
    }
   ],
   "source": [
    "plt.figure(figsize=(8, 6))\n",
    "plt.title('NRC Hashtag Classification', fontsize=14)\n",
    "sns.countplot(data=results_temp, x='NRC Hashtag', order = results_temp['NRC Hashtag'].value_counts().index)\n",
    "plt.ylabel('Count', fontsize=12)\n",
    "plt.yticks(fontsize=12)\n",
    "plt.xticks(fontsize=12)\n",
    "plt.xlabel('Classification', fontsize=12)"
   ]
  },
  {
   "cell_type": "code",
   "execution_count": 37,
   "id": "planned-dealing",
   "metadata": {},
   "outputs": [
    {
     "data": {
      "text/plain": [
       "Text(0.5, 0, 'Classification')"
      ]
     },
     "execution_count": 37,
     "metadata": {},
     "output_type": "execute_result"
    },
    {
     "data": {
      "image/png": "[encoded data removed]",
      "text/plain": [
       "<Figure size 576x432 with 1 Axes>"
      ]
     },
     "metadata": {},
     "output_type": "display_data"
    }
   ],
   "source": [
    "plt.figure(figsize=(8, 6))\n",
    "plt.title('SenticNet Classification', fontsize=14)\n",
    "sns.countplot(data=results_temp, x='SenticNet', order = results_temp['SenticNet'].value_counts().index)\n",
    "plt.ylabel('Count', fontsize=12)\n",
    "plt.yticks(fontsize=12)\n",
    "plt.xticks(fontsize=12)\n",
    "plt.xlabel('Classification', fontsize=12)"
   ]
  },
  {
   "cell_type": "code",
   "execution_count": 36,
   "id": "successful-trick",
   "metadata": {},
   "outputs": [
    {
     "data": {
      "text/plain": [
       "Text(0.5, 0, 'Classification')"
      ]
     },
     "execution_count": 36,
     "metadata": {},
     "output_type": "execute_result"
    },
    {
     "data": {
      "image/png": "[encoded data removed]",
      "text/plain": [
       "<Figure size 576x432 with 1 Axes>"
      ]
     },
     "metadata": {},
     "output_type": "display_data"
    }
   ],
   "source": [
    "plt.figure(figsize=(8, 6))\n",
    "plt.title('TextBlob Classification', fontsize=14)\n",
    "sns.countplot(data=results_temp, x='TextBlob', order = results_temp['TextBlob'].value_counts().index)\n",
    "plt.ylabel('Count', fontsize=12)\n",
    "plt.yticks(fontsize=12)\n",
    "plt.xticks(fontsize=12)\n",
    "plt.xlabel('Classification', fontsize=12)"
   ]
  }
 ],
 "metadata": {
  "kernelspec": {
   "display_name": "Python 3",
   "language": "python",
   "name": "python3"
  },
  "language_info": {
   "codemirror_mode": {
    "name": "ipython",
    "version": 3
   },
   "file_extension": ".py",
   "mimetype": "text/x-python",
   "name": "python",
   "nbconvert_exporter": "python",
   "pygments_lexer": "ipython3",
   "version": "3.8.6"
  }
 },
 "nbformat": 4,
 "nbformat_minor": 5
}
